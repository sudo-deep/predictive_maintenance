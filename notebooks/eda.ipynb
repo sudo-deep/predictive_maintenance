{
 "cells": [
  {
   "cell_type": "code",
   "execution_count": 1,
   "metadata": {},
   "outputs": [
    {
     "name": "stdout",
     "output_type": "stream",
     "text": [
      "Python 3.10.13\n"
     ]
    }
   ],
   "source": [
    "!python --version"
   ]
  },
  {
   "cell_type": "code",
   "execution_count": 8,
   "metadata": {},
   "outputs": [
    {
     "ename": "PydanticUserError",
     "evalue": "A non-annotated attribute was detected: `notebook = Notebook(iframe=Iframe(height='800px', width='100%', attribute=<IframeAttribute.srcdoc: 'srcdoc'>))`. All model fields require a type annotation; if `notebook` is not meant to be a field, you may be able to resolve this error by annotating it as a `ClassVar` or updating `model_config['ignored_types']`.\n\nFor further information visit https://errors.pydantic.dev/2.5/u/model-field-missing-annotation",
     "output_type": "error",
     "traceback": [
      "\u001b[0;31m---------------------------------------------------------------------------\u001b[0m",
      "\u001b[0;31mPydanticUserError\u001b[0m                         Traceback (most recent call last)",
      "\u001b[1;32m/home/deepansh/git/predictive_maintenance/notebooks/eda.ipynb Cell 2\u001b[0m line \u001b[0;36m3\n\u001b[1;32m      <a href='vscode-notebook-cell:/home/deepansh/git/predictive_maintenance/notebooks/eda.ipynb#W1sZmlsZQ%3D%3D?line=0'>1</a>\u001b[0m \u001b[39mimport\u001b[39;00m \u001b[39mnumpy\u001b[39;00m \u001b[39mas\u001b[39;00m \u001b[39mnp\u001b[39;00m\n\u001b[1;32m      <a href='vscode-notebook-cell:/home/deepansh/git/predictive_maintenance/notebooks/eda.ipynb#W1sZmlsZQ%3D%3D?line=1'>2</a>\u001b[0m \u001b[39mimport\u001b[39;00m \u001b[39mpandas\u001b[39;00m \u001b[39mas\u001b[39;00m \u001b[39mpd\u001b[39;00m\n\u001b[0;32m----> <a href='vscode-notebook-cell:/home/deepansh/git/predictive_maintenance/notebooks/eda.ipynb#W1sZmlsZQ%3D%3D?line=2'>3</a>\u001b[0m \u001b[39mfrom\u001b[39;00m \u001b[39mpandas_profiling\u001b[39;00m \u001b[39mimport\u001b[39;00m ProfileReport\n\u001b[1;32m      <a href='vscode-notebook-cell:/home/deepansh/git/predictive_maintenance/notebooks/eda.ipynb#W1sZmlsZQ%3D%3D?line=3'>4</a>\u001b[0m \u001b[39m# from ydata_profiling import ProfileReport\u001b[39;00m\n\u001b[1;32m      <a href='vscode-notebook-cell:/home/deepansh/git/predictive_maintenance/notebooks/eda.ipynb#W1sZmlsZQ%3D%3D?line=4'>5</a>\u001b[0m \u001b[39m# import seaborn as sns\u001b[39;00m\n\u001b[1;32m      <a href='vscode-notebook-cell:/home/deepansh/git/predictive_maintenance/notebooks/eda.ipynb#W1sZmlsZQ%3D%3D?line=5'>6</a>\u001b[0m \u001b[39mimport\u001b[39;00m \u001b[39mmatplotlib\u001b[39;00m\u001b[39m.\u001b[39;00m\u001b[39mpyplot\u001b[39;00m \u001b[39mas\u001b[39;00m \u001b[39mplt\u001b[39;00m\n",
      "File \u001b[0;32m~/git/predictive_maintenance/venv10/lib/python3.10/site-packages/pandas_profiling/__init__.py:8\u001b[0m\n\u001b[1;32m      1\u001b[0m \u001b[39m\"\"\"Main module of pandas-profiling.\u001b[39;00m\n\u001b[1;32m      2\u001b[0m \n\u001b[1;32m      3\u001b[0m \u001b[39m.. include:: ../../README.md\u001b[39;00m\n\u001b[1;32m      4\u001b[0m \u001b[39m\"\"\"\u001b[39;00m\n\u001b[1;32m      6\u001b[0m \u001b[39mfrom\u001b[39;00m \u001b[39mwarnings\u001b[39;00m \u001b[39mimport\u001b[39;00m warn\n\u001b[0;32m----> 8\u001b[0m \u001b[39mfrom\u001b[39;00m \u001b[39mpandas_profiling\u001b[39;00m\u001b[39m.\u001b[39;00m\u001b[39mcompare_reports\u001b[39;00m \u001b[39mimport\u001b[39;00m compare\n\u001b[1;32m      9\u001b[0m \u001b[39mfrom\u001b[39;00m \u001b[39mpandas_profiling\u001b[39;00m\u001b[39m.\u001b[39;00m\u001b[39mcontroller\u001b[39;00m \u001b[39mimport\u001b[39;00m pandas_decorator\n\u001b[1;32m     10\u001b[0m \u001b[39mfrom\u001b[39;00m \u001b[39mpandas_profiling\u001b[39;00m\u001b[39m.\u001b[39;00m\u001b[39mprofile_report\u001b[39;00m \u001b[39mimport\u001b[39;00m ProfileReport\n",
      "File \u001b[0;32m~/git/predictive_maintenance/venv10/lib/python3.10/site-packages/pandas_profiling/compare_reports.py:6\u001b[0m\n\u001b[1;32m      2\u001b[0m \u001b[39mfrom\u001b[39;00m \u001b[39mtyping\u001b[39;00m \u001b[39mimport\u001b[39;00m Any, List, Optional, Tuple, Union\n\u001b[1;32m      4\u001b[0m \u001b[39mimport\u001b[39;00m \u001b[39mpandas\u001b[39;00m \u001b[39mas\u001b[39;00m \u001b[39mpd\u001b[39;00m\n\u001b[0;32m----> 6\u001b[0m \u001b[39mfrom\u001b[39;00m \u001b[39mpandas_profiling\u001b[39;00m\u001b[39m.\u001b[39;00m\u001b[39mconfig\u001b[39;00m \u001b[39mimport\u001b[39;00m Correlation, Settings\n\u001b[1;32m      7\u001b[0m \u001b[39mfrom\u001b[39;00m \u001b[39mpandas_profiling\u001b[39;00m\u001b[39m.\u001b[39;00m\u001b[39mmodel\u001b[39;00m\u001b[39m.\u001b[39;00m\u001b[39malerts\u001b[39;00m \u001b[39mimport\u001b[39;00m Alert\n\u001b[1;32m      8\u001b[0m \u001b[39mfrom\u001b[39;00m \u001b[39mpandas_profiling\u001b[39;00m\u001b[39m.\u001b[39;00m\u001b[39mprofile_report\u001b[39;00m \u001b[39mimport\u001b[39;00m ProfileReport\n",
      "File \u001b[0;32m~/git/predictive_maintenance/venv10/lib/python3.10/site-packages/pandas_profiling/config.py:275\u001b[0m\n\u001b[1;32m    270\u001b[0m \u001b[39mclass\u001b[39;00m \u001b[39mReport\u001b[39;00m(BaseModel):\n\u001b[1;32m    271\u001b[0m     \u001b[39m# Numeric precision for displaying statistics\u001b[39;00m\n\u001b[1;32m    272\u001b[0m     precision: \u001b[39mint\u001b[39m \u001b[39m=\u001b[39m \u001b[39m8\u001b[39m\n\u001b[0;32m--> 275\u001b[0m \u001b[39mclass\u001b[39;00m \u001b[39mSettings\u001b[39;00m(BaseSettings):\n\u001b[1;32m    276\u001b[0m     \u001b[39m# Default prefix to avoid collisions with environment variables\u001b[39;00m\n\u001b[1;32m    277\u001b[0m     \u001b[39mclass\u001b[39;00m \u001b[39mConfig\u001b[39;00m:\n\u001b[1;32m    278\u001b[0m         env_prefix \u001b[39m=\u001b[39m \u001b[39m\"\u001b[39m\u001b[39mprofile_\u001b[39m\u001b[39m\"\u001b[39m\n",
      "File \u001b[0;32m~/git/predictive_maintenance/venv10/lib/python3.10/site-packages/pydantic/_internal/_model_construction.py:92\u001b[0m, in \u001b[0;36mModelMetaclass.__new__\u001b[0;34m(mcs, cls_name, bases, namespace, __pydantic_generic_metadata__, __pydantic_reset_parent_namespace__, _create_model_module, **kwargs)\u001b[0m\n\u001b[1;32m     90\u001b[0m config_wrapper \u001b[39m=\u001b[39m ConfigWrapper\u001b[39m.\u001b[39mfor_model(bases, namespace, kwargs)\n\u001b[1;32m     91\u001b[0m namespace[\u001b[39m'\u001b[39m\u001b[39mmodel_config\u001b[39m\u001b[39m'\u001b[39m] \u001b[39m=\u001b[39m config_wrapper\u001b[39m.\u001b[39mconfig_dict\n\u001b[0;32m---> 92\u001b[0m private_attributes \u001b[39m=\u001b[39m inspect_namespace(\n\u001b[1;32m     93\u001b[0m     namespace, config_wrapper\u001b[39m.\u001b[39;49mignored_types, class_vars, base_field_names\n\u001b[1;32m     94\u001b[0m )\n\u001b[1;32m     95\u001b[0m \u001b[39mif\u001b[39;00m private_attributes:\n\u001b[1;32m     96\u001b[0m     original_model_post_init \u001b[39m=\u001b[39m get_model_post_init(namespace, bases)\n",
      "File \u001b[0;32m~/git/predictive_maintenance/venv10/lib/python3.10/site-packages/pydantic/_internal/_model_construction.py:372\u001b[0m, in \u001b[0;36minspect_namespace\u001b[0;34m(namespace, ignored_types, base_class_vars, base_class_fields)\u001b[0m\n\u001b[1;32m    368\u001b[0m             \u001b[39mraise\u001b[39;00m PydanticUserError(\n\u001b[1;32m    369\u001b[0m                 \u001b[39mf\u001b[39m\u001b[39m'\u001b[39m\u001b[39mField \u001b[39m\u001b[39m{\u001b[39;00mvar_name\u001b[39m!r}\u001b[39;00m\u001b[39m requires a type annotation\u001b[39m\u001b[39m'\u001b[39m, code\u001b[39m=\u001b[39m\u001b[39m'\u001b[39m\u001b[39mmodel-field-missing-annotation\u001b[39m\u001b[39m'\u001b[39m\n\u001b[1;32m    370\u001b[0m             )\n\u001b[1;32m    371\u001b[0m         \u001b[39melse\u001b[39;00m:\n\u001b[0;32m--> 372\u001b[0m             \u001b[39mraise\u001b[39;00m PydanticUserError(\n\u001b[1;32m    373\u001b[0m                 \u001b[39mf\u001b[39m\u001b[39m'\u001b[39m\u001b[39mA non-annotated attribute was detected: `\u001b[39m\u001b[39m{\u001b[39;00mvar_name\u001b[39m}\u001b[39;00m\u001b[39m = \u001b[39m\u001b[39m{\u001b[39;00mvalue\u001b[39m!r}\u001b[39;00m\u001b[39m`. All model fields require a \u001b[39m\u001b[39m'\u001b[39m\n\u001b[1;32m    374\u001b[0m                 \u001b[39mf\u001b[39m\u001b[39m'\u001b[39m\u001b[39mtype annotation; if `\u001b[39m\u001b[39m{\u001b[39;00mvar_name\u001b[39m}\u001b[39;00m\u001b[39m` is not meant to be a field, you may be able to resolve this \u001b[39m\u001b[39m'\u001b[39m\n\u001b[1;32m    375\u001b[0m                 \u001b[39mf\u001b[39m\u001b[39m\"\u001b[39m\u001b[39merror by annotating it as a `ClassVar` or updating `model_config[\u001b[39m\u001b[39m'\u001b[39m\u001b[39mignored_types\u001b[39m\u001b[39m'\u001b[39m\u001b[39m]`.\u001b[39m\u001b[39m\"\u001b[39m,\n\u001b[1;32m    376\u001b[0m                 code\u001b[39m=\u001b[39m\u001b[39m'\u001b[39m\u001b[39mmodel-field-missing-annotation\u001b[39m\u001b[39m'\u001b[39m,\n\u001b[1;32m    377\u001b[0m             )\n\u001b[1;32m    379\u001b[0m \u001b[39mfor\u001b[39;00m ann_name, ann_type \u001b[39min\u001b[39;00m raw_annotations\u001b[39m.\u001b[39mitems():\n\u001b[1;32m    380\u001b[0m     \u001b[39mif\u001b[39;00m (\n\u001b[1;32m    381\u001b[0m         is_valid_privateattr_name(ann_name)\n\u001b[1;32m    382\u001b[0m         \u001b[39mand\u001b[39;00m ann_name \u001b[39mnot\u001b[39;00m \u001b[39min\u001b[39;00m private_attributes\n\u001b[0;32m   (...)\u001b[0m\n\u001b[1;32m    386\u001b[0m         \u001b[39mand\u001b[39;00m \u001b[39mgetattr\u001b[39m(ann_type, \u001b[39m'\u001b[39m\u001b[39m__module__\u001b[39m\u001b[39m'\u001b[39m, \u001b[39mNone\u001b[39;00m) \u001b[39m!=\u001b[39m \u001b[39m'\u001b[39m\u001b[39mfunctools\u001b[39m\u001b[39m'\u001b[39m\n\u001b[1;32m    387\u001b[0m     ):\n",
      "\u001b[0;31mPydanticUserError\u001b[0m: A non-annotated attribute was detected: `notebook = Notebook(iframe=Iframe(height='800px', width='100%', attribute=<IframeAttribute.srcdoc: 'srcdoc'>))`. All model fields require a type annotation; if `notebook` is not meant to be a field, you may be able to resolve this error by annotating it as a `ClassVar` or updating `model_config['ignored_types']`.\n\nFor further information visit https://errors.pydantic.dev/2.5/u/model-field-missing-annotation"
     ]
    }
   ],
   "source": [
    "import numpy as np\n",
    "import pandas as pd\n",
    "# from pandas_profiling import ProfileReport\n",
    "from ydata_profiling import ProfileReport\n",
    "# import seaborn as sns\n",
    "import matplotlib.pyplot as plt\n",
    "%matplotlib inline\n",
    "import warnings\n",
    "warnings.filterwarnings(\"ignore\")\n",
    "\n"
   ]
  },
  {
   "cell_type": "code",
   "execution_count": 6,
   "metadata": {},
   "outputs": [],
   "source": [
    "df = pd.read_csv(\"data/maintenance_data.csv\", sep=\";\")"
   ]
  },
  {
   "cell_type": "code",
   "execution_count": 9,
   "metadata": {},
   "outputs": [
    {
     "data": {
      "text/html": [
       "<div>\n",
       "<style scoped>\n",
       "    .dataframe tbody tr th:only-of-type {\n",
       "        vertical-align: middle;\n",
       "    }\n",
       "\n",
       "    .dataframe tbody tr th {\n",
       "        vertical-align: top;\n",
       "    }\n",
       "\n",
       "    .dataframe thead th {\n",
       "        text-align: right;\n",
       "    }\n",
       "</style>\n",
       "<table border=\"1\" class=\"dataframe\">\n",
       "  <thead>\n",
       "    <tr style=\"text-align: right;\">\n",
       "      <th></th>\n",
       "      <th>lifetime</th>\n",
       "      <th>broken</th>\n",
       "      <th>pressureInd</th>\n",
       "      <th>moistureInd</th>\n",
       "      <th>temperatureInd</th>\n",
       "      <th>team</th>\n",
       "      <th>provider</th>\n",
       "    </tr>\n",
       "  </thead>\n",
       "  <tbody>\n",
       "    <tr>\n",
       "      <th>0</th>\n",
       "      <td>56</td>\n",
       "      <td>0</td>\n",
       "      <td>92.178854</td>\n",
       "      <td>104.230204</td>\n",
       "      <td>96.517159</td>\n",
       "      <td>TeamA</td>\n",
       "      <td>Provider4</td>\n",
       "    </tr>\n",
       "    <tr>\n",
       "      <th>1</th>\n",
       "      <td>81</td>\n",
       "      <td>1</td>\n",
       "      <td>72.075938</td>\n",
       "      <td>103.065701</td>\n",
       "      <td>87.271062</td>\n",
       "      <td>TeamC</td>\n",
       "      <td>Provider4</td>\n",
       "    </tr>\n",
       "    <tr>\n",
       "      <th>2</th>\n",
       "      <td>60</td>\n",
       "      <td>0</td>\n",
       "      <td>96.272254</td>\n",
       "      <td>77.801376</td>\n",
       "      <td>112.196170</td>\n",
       "      <td>TeamA</td>\n",
       "      <td>Provider1</td>\n",
       "    </tr>\n",
       "    <tr>\n",
       "      <th>3</th>\n",
       "      <td>86</td>\n",
       "      <td>1</td>\n",
       "      <td>94.406461</td>\n",
       "      <td>108.493608</td>\n",
       "      <td>72.025374</td>\n",
       "      <td>TeamC</td>\n",
       "      <td>Provider2</td>\n",
       "    </tr>\n",
       "    <tr>\n",
       "      <th>4</th>\n",
       "      <td>34</td>\n",
       "      <td>0</td>\n",
       "      <td>97.752899</td>\n",
       "      <td>99.413492</td>\n",
       "      <td>103.756271</td>\n",
       "      <td>TeamB</td>\n",
       "      <td>Provider1</td>\n",
       "    </tr>\n",
       "  </tbody>\n",
       "</table>\n",
       "</div>"
      ],
      "text/plain": [
       "   lifetime  broken  pressureInd  moistureInd  temperatureInd   team  \\\n",
       "0        56       0    92.178854   104.230204       96.517159  TeamA   \n",
       "1        81       1    72.075938   103.065701       87.271062  TeamC   \n",
       "2        60       0    96.272254    77.801376      112.196170  TeamA   \n",
       "3        86       1    94.406461   108.493608       72.025374  TeamC   \n",
       "4        34       0    97.752899    99.413492      103.756271  TeamB   \n",
       "\n",
       "    provider  \n",
       "0  Provider4  \n",
       "1  Provider4  \n",
       "2  Provider1  \n",
       "3  Provider2  \n",
       "4  Provider1  "
      ]
     },
     "execution_count": 9,
     "metadata": {},
     "output_type": "execute_result"
    }
   ],
   "source": [
    "df.head()"
   ]
  },
  {
   "cell_type": "code",
   "execution_count": 10,
   "metadata": {},
   "outputs": [
    {
     "name": "stdout",
     "output_type": "stream",
     "text": [
      "<class 'pandas.core.frame.DataFrame'>\n",
      "RangeIndex: 999 entries, 0 to 998\n",
      "Data columns (total 7 columns):\n",
      " #   Column          Non-Null Count  Dtype  \n",
      "---  ------          --------------  -----  \n",
      " 0   lifetime        999 non-null    int64  \n",
      " 1   broken          999 non-null    int64  \n",
      " 2   pressureInd     999 non-null    float64\n",
      " 3   moistureInd     999 non-null    float64\n",
      " 4   temperatureInd  999 non-null    float64\n",
      " 5   team            999 non-null    object \n",
      " 6   provider        999 non-null    object \n",
      "dtypes: float64(3), int64(2), object(2)\n",
      "memory usage: 54.8+ KB\n"
     ]
    }
   ],
   "source": [
    "df.info()"
   ]
  },
  {
   "cell_type": "code",
   "execution_count": 10,
   "metadata": {},
   "outputs": [
    {
     "name": "stderr",
     "output_type": "stream",
     "text": [
      "Summarize dataset:  33%|███▎      | 10/30 [00:00<00:00, 110.58it/s, scatter lifetime, lifetime]    "
     ]
    },
    {
     "name": "stdout",
     "output_type": "stream",
     "text": [
      "Unexpected exception formatting exception. Falling back to standard exception\n"
     ]
    },
    {
     "name": "stderr",
     "output_type": "stream",
     "text": [
      "\n",
      "Traceback (most recent call last):\n",
      "  File \"/home/deepansh/git/predictive_maintenance/venv10/lib/python3.10/site-packages/IPython/core/formatters.py\", line 223, in catch_format_error\n",
      "    r = method(self, *args, **kwargs)\n",
      "  File \"/home/deepansh/git/predictive_maintenance/venv10/lib/python3.10/site-packages/IPython/core/formatters.py\", line 344, in __call__\n",
      "    return method()\n",
      "  File \"/home/deepansh/git/predictive_maintenance/venv10/lib/python3.10/site-packages/ydata_profiling/profile_report.py\", line 520, in _repr_html_\n",
      "    self.to_notebook_iframe()\n",
      "  File \"/home/deepansh/git/predictive_maintenance/venv10/lib/python3.10/site-packages/ydata_profiling/profile_report.py\", line 500, in to_notebook_iframe\n",
      "    display(get_notebook_iframe(self.config, self))\n",
      "  File \"/home/deepansh/git/predictive_maintenance/venv10/lib/python3.10/site-packages/ydata_profiling/report/presentation/flavours/widget/notebook.py\", line 75, in get_notebook_iframe\n",
      "    output = get_notebook_iframe_srcdoc(config, profile)\n",
      "  File \"/home/deepansh/git/predictive_maintenance/venv10/lib/python3.10/site-packages/ydata_profiling/report/presentation/flavours/widget/notebook.py\", line 29, in get_notebook_iframe_srcdoc\n",
      "    src = html.escape(profile.to_html())\n",
      "  File \"/home/deepansh/git/predictive_maintenance/venv10/lib/python3.10/site-packages/ydata_profiling/profile_report.py\", line 470, in to_html\n",
      "    return self.html\n",
      "  File \"/home/deepansh/git/predictive_maintenance/venv10/lib/python3.10/site-packages/ydata_profiling/profile_report.py\", line 277, in html\n",
      "    self._html = self._render_html()\n",
      "  File \"/home/deepansh/git/predictive_maintenance/venv10/lib/python3.10/site-packages/ydata_profiling/profile_report.py\", line 385, in _render_html\n",
      "    report = self.report\n",
      "  File \"/home/deepansh/git/predictive_maintenance/venv10/lib/python3.10/site-packages/ydata_profiling/profile_report.py\", line 271, in report\n",
      "    self._report = get_report_structure(self.config, self.description_set)\n",
      "  File \"/home/deepansh/git/predictive_maintenance/venv10/lib/python3.10/site-packages/ydata_profiling/profile_report.py\", line 253, in description_set\n",
      "    self._description_set = describe_df(\n",
      "  File \"/home/deepansh/git/predictive_maintenance/venv10/lib/python3.10/site-packages/ydata_profiling/model/describe.py\", line 130, in describe\n",
      "    scatter_matrix[x][y] = progress(\n",
      "  File \"/home/deepansh/git/predictive_maintenance/venv10/lib/python3.10/site-packages/ydata_profiling/utils/progress_bar.py\", line 11, in inner\n",
      "    ret = fn(*args, **kwargs)\n",
      "  File \"/home/deepansh/git/predictive_maintenance/venv10/lib/python3.10/site-packages/ydata_profiling/model/pairwise.py\", line 31, in get_scatter_plot\n",
      "    return scatter_pairwise(config, df_temp[x], df_temp[y], x, y)\n",
      "  File \"/usr/lib/python3.10/contextlib.py\", line 78, in inner\n",
      "    with self._recreate_cm():\n",
      "  File \"/usr/lib/python3.10/contextlib.py\", line 135, in __enter__\n",
      "    return next(self.gen)\n",
      "  File \"/home/deepansh/git/predictive_maintenance/venv10/lib/python3.10/site-packages/ydata_profiling/visualisation/context.py\", line 83, in manage_matplotlib_context\n",
      "    deregister_matplotlib_converters()  # revert to original unit registries\n",
      "  File \"/home/deepansh/git/predictive_maintenance/venv10/lib/python3.10/site-packages/pandas/plotting/_misc.py\", line 151, in deregister\n",
      "    <AxesSubplot: xlabel='B', ylabel='C'>,\n",
      "  File \"/home/deepansh/git/predictive_maintenance/venv10/lib/python3.10/site-packages/pandas/plotting/_core.py\", line 1947, in _get_plot_backend\n",
      "  File \"/home/deepansh/git/predictive_maintenance/venv10/lib/python3.10/site-packages/pandas/plotting/_core.py\", line 1877, in _load_backend\n",
      "ImportError: matplotlib is required for plotting when the default backend \"matplotlib\" is selected.\n",
      "\n",
      "During handling of the above exception, another exception occurred:\n",
      "\n",
      "Traceback (most recent call last):\n",
      "  File \"/home/deepansh/git/predictive_maintenance/venv10/lib/python3.10/site-packages/IPython/core/interactiveshell.py\", line 2142, in showtraceback\n",
      "    stb = self.InteractiveTB.structured_traceback(\n",
      "  File \"/home/deepansh/git/predictive_maintenance/venv10/lib/python3.10/site-packages/IPython/core/ultratb.py\", line 1435, in structured_traceback\n",
      "    return FormattedTB.structured_traceback(\n",
      "  File \"/home/deepansh/git/predictive_maintenance/venv10/lib/python3.10/site-packages/IPython/core/ultratb.py\", line 1326, in structured_traceback\n",
      "    return VerboseTB.structured_traceback(\n",
      "  File \"/home/deepansh/git/predictive_maintenance/venv10/lib/python3.10/site-packages/IPython/core/ultratb.py\", line 1173, in structured_traceback\n",
      "    formatted_exception = self.format_exception_as_a_whole(etype, evalue, etb, number_of_lines_of_context,\n",
      "  File \"/home/deepansh/git/predictive_maintenance/venv10/lib/python3.10/site-packages/IPython/core/ultratb.py\", line 1088, in format_exception_as_a_whole\n",
      "    frames.append(self.format_record(record))\n",
      "  File \"/home/deepansh/git/predictive_maintenance/venv10/lib/python3.10/site-packages/IPython/core/ultratb.py\", line 970, in format_record\n",
      "    frame_info.lines, Colors, self.has_colors, lvals\n",
      "  File \"/home/deepansh/git/predictive_maintenance/venv10/lib/python3.10/site-packages/IPython/core/ultratb.py\", line 792, in lines\n",
      "    return self._sd.lines\n",
      "  File \"/home/deepansh/git/predictive_maintenance/venv10/lib/python3.10/site-packages/stack_data/utils.py\", line 145, in cached_property_wrapper\n",
      "    value = obj.__dict__[self.func.__name__] = self.func(obj)\n",
      "  File \"/home/deepansh/git/predictive_maintenance/venv10/lib/python3.10/site-packages/stack_data/core.py\", line 734, in lines\n",
      "    pieces = self.included_pieces\n",
      "  File \"/home/deepansh/git/predictive_maintenance/venv10/lib/python3.10/site-packages/stack_data/utils.py\", line 145, in cached_property_wrapper\n",
      "    value = obj.__dict__[self.func.__name__] = self.func(obj)\n",
      "  File \"/home/deepansh/git/predictive_maintenance/venv10/lib/python3.10/site-packages/stack_data/core.py\", line 681, in included_pieces\n",
      "    pos = scope_pieces.index(self.executing_piece)\n",
      "  File \"/home/deepansh/git/predictive_maintenance/venv10/lib/python3.10/site-packages/stack_data/utils.py\", line 145, in cached_property_wrapper\n",
      "    value = obj.__dict__[self.func.__name__] = self.func(obj)\n",
      "  File \"/home/deepansh/git/predictive_maintenance/venv10/lib/python3.10/site-packages/stack_data/core.py\", line 660, in executing_piece\n",
      "    return only(\n",
      "  File \"/home/deepansh/git/predictive_maintenance/venv10/lib/python3.10/site-packages/executing/executing.py\", line 116, in only\n",
      "    raise NotOneValueFound('Expected one value, found 0')\n",
      "executing.executing.NotOneValueFound: Expected one value, found 0\n"
     ]
    },
    {
     "data": {
      "text/plain": []
     },
     "execution_count": 10,
     "metadata": {},
     "output_type": "execute_result"
    }
   ],
   "source": [
    "ProfileReport(df)"
   ]
  }
 ],
 "metadata": {
  "kernelspec": {
   "display_name": "venv",
   "language": "python",
   "name": "python3"
  },
  "language_info": {
   "codemirror_mode": {
    "name": "ipython",
    "version": 3
   },
   "file_extension": ".py",
   "mimetype": "text/x-python",
   "name": "python",
   "nbconvert_exporter": "python",
   "pygments_lexer": "ipython3",
   "version": "3.10.12"
  }
 },
 "nbformat": 4,
 "nbformat_minor": 2
}
